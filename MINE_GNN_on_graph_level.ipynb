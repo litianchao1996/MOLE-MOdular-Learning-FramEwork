{
 "cells": [
  {
   "cell_type": "markdown",
   "metadata": {
    "id": "TqZYR93NGMW_"
   },
   "source": [
    "# Package Download"
   ]
  },
  {
   "cell_type": "code",
   "execution_count": 1,
   "metadata": {
    "colab": {
     "base_uri": "https://localhost:8080/"
    },
    "id": "YSU6Km0aeTjH",
    "outputId": "9b6a0e48-0bbf-4b35-81fb-90f9a498f8cb"
   },
   "outputs": [
    {
     "name": "stdout",
     "output_type": "stream",
     "text": [
      "\u001b[33mWARNING: Running pip as the 'root' user can result in broken permissions and conflicting behaviour with the system package manager. It is recommended to use a virtual environment instead: https://pip.pypa.io/warnings/venv\u001b[0m\n",
      "\u001b[33mWARNING: Running pip as the 'root' user can result in broken permissions and conflicting behaviour with the system package manager. It is recommended to use a virtual environment instead: https://pip.pypa.io/warnings/venv\u001b[0m\n",
      "\u001b[33mWARNING: Running pip as the 'root' user can result in broken permissions and conflicting behaviour with the system package manager. It is recommended to use a virtual environment instead: https://pip.pypa.io/warnings/venv\u001b[0m\n",
      "Looking in indexes: https://repo.huaweicloud.com/repository/pypi/simple\n",
      "Requirement already satisfied: decorator==5.0.9 in ./miniconda3/lib/python3.8/site-packages (5.0.9)\n",
      "\u001b[33mWARNING: Running pip as the 'root' user can result in broken permissions and conflicting behaviour with the system package manager. It is recommended to use a virtual environment instead: https://pip.pypa.io/warnings/venv\u001b[0m\n"
     ]
    }
   ],
   "source": [
    "!pip install -q torch-scatter -f https://pytorch-geometric.com/whl/torch-1.8.0+cu101.html\n",
    "!pip install -q torch-sparse -f https://pytorch-geometric.com/whl/torch-1.8.0+cu101.html\n",
    "!pip install -q torch-geometric\n",
    "!pip install decorator==5.0.9"
   ]
  },
  {
   "cell_type": "code",
   "execution_count": null,
   "metadata": {
    "colab": {
     "base_uri": "https://localhost:8080/"
    },
    "id": "iiQf0-g_8VtV",
    "outputId": "af209ee6-f2a4-4e41-92cd-df4495ba8a0d"
   },
   "outputs": [
    {
     "name": "stdout",
     "output_type": "stream",
     "text": [
      "Drive already mounted at /content/gdrive; to attempt to forcibly remount, call drive.mount(\"/content/gdrive\", force_remount=True).\n"
     ]
    }
   ],
   "source": [
    "import os, sys \n",
    "# 挂载google drive\n",
    "from google.colab import drive \n",
    "drive.mount('/content/gdrive') \n",
    " \n",
    "nb_path = '/content/notebooks'\n",
    "os.symlink('/content/gdrive/My Drive/Colab Notebooks', nb_path)\n",
    "sys.path.insert(0, nb_path)  # or append(nb_path)"
   ]
  },
  {
   "cell_type": "code",
   "execution_count": null,
   "metadata": {
    "id": "NL4s-L3K-IV2"
   },
   "outputs": [],
   "source": [
    "# 将安装包安装到指定路径（这里安装到Colab Notebooks/python_package目录下）\n",
    "!pip install --target=$nb_path -q torch-scatter -f https://pytorch-geometric.com/whl/torch-1.8.0+cu101.html\n",
    "!pip install --target=$nb_path -q torch-sparse -f https://pytorch-geometric.com/whl/torch-1.8.0+cu101.html\n",
    "!pip install --target=$nb_path -q torch-geometric \n",
    "!pip install --target=$nb_path decorator==5.0.9 "
   ]
  },
  {
   "cell_type": "code",
   "execution_count": null,
   "metadata": {
    "colab": {
     "base_uri": "https://localhost:8080/"
    },
    "id": "5ucHRPezrEic",
    "outputId": "9ef02034-5bf5-4602-c16b-4fc2dc8323bf"
   },
   "outputs": [
    {
     "name": "stdout",
     "output_type": "stream",
     "text": [
      "Looking in indexes: https://pypi.org/simple, https://us-python.pkg.dev/colab-wheels/public/simple/\n",
      "Collecting sparse\n",
      "  Using cached sparse-0.14.0-py2.py3-none-any.whl (80 kB)\n",
      "Requirement already satisfied: numba>=0.49 in /usr/local/lib/python3.10/dist-packages (from sparse) (0.56.4)\n",
      "Requirement already satisfied: scipy>=0.19 in /usr/local/lib/python3.10/dist-packages (from sparse) (1.10.1)\n",
      "Requirement already satisfied: numpy>=1.17 in /usr/local/lib/python3.10/dist-packages (from sparse) (1.22.4)\n",
      "Requirement already satisfied: setuptools in /usr/local/lib/python3.10/dist-packages (from numba>=0.49->sparse) (67.7.2)\n",
      "Requirement already satisfied: llvmlite<0.40,>=0.39.0dev0 in /usr/local/lib/python3.10/dist-packages (from numba>=0.49->sparse) (0.39.1)\n",
      "Installing collected packages: sparse\n",
      "Successfully installed sparse-0.14.0\n"
     ]
    }
   ],
   "source": [
    "\n"
   ]
  },
  {
   "cell_type": "markdown",
   "metadata": {
    "id": "vNpx3FGvGT-A"
   },
   "source": [
    "# Package Import"
   ]
  },
  {
   "cell_type": "code",
   "execution_count": null,
   "metadata": {
    "colab": {
     "base_uri": "https://localhost:8080/"
    },
    "id": "UNXtu3Wq_Q7l",
    "outputId": "1023957b-1ce3-48c6-90d9-b387c629007e"
   },
   "outputs": [
    {
     "name": "stdout",
     "output_type": "stream",
     "text": [
      "Drive already mounted at /content/gdrive; to attempt to forcibly remount, call drive.mount(\"/content/gdrive\", force_remount=True).\n"
     ]
    }
   ],
   "source": [
    "import sys\n",
    "from google.colab import drive\n",
    "drive.mount('/content/gdrive')\n",
    "sys.path.insert(0,\"/content/gdrive/My Drive/Colab Notebooks/python_package/\")"
   ]
  },
  {
   "cell_type": "code",
   "execution_count": null,
   "metadata": {
    "colab": {
     "base_uri": "https://localhost:8080/",
     "height": 485
    },
    "id": "oN3icR5otZd8",
    "outputId": "f65e0b3f-8ea7-4e4f-c185-9522e4650012"
   },
   "outputs": [
    {
     "ename": "ImportError",
     "errorDetails": {
      "actions": [
       {
        "action": "open_url",
        "actionText": "Open Examples",
        "url": "/notebooks/snippets/importing_libraries.ipynb"
       }
      ]
     },
     "evalue": "ignored",
     "output_type": "error",
     "traceback": [
      "\u001b[0;31m---------------------------------------------------------------------------\u001b[0m",
      "\u001b[0;31mImportError\u001b[0m                               Traceback (most recent call last)",
      "\u001b[0;32m<ipython-input-2-5d03fa13bb7b>\u001b[0m in \u001b[0;36m<cell line: 1>\u001b[0;34m()\u001b[0m\n\u001b[0;32m----> 1\u001b[0;31m \u001b[0;32mimport\u001b[0m \u001b[0msparse\u001b[0m\u001b[0;34m\u001b[0m\u001b[0;34m\u001b[0m\u001b[0m\n\u001b[0m",
      "\u001b[0;32m/content/gdrive/My Drive/Colab Notebooks/python_package/sparse/__init__.py\u001b[0m in \u001b[0;36m<module>\u001b[0;34m\u001b[0m\n\u001b[0;32m----> 1\u001b[0;31m \u001b[0;32mfrom\u001b[0m \u001b[0;34m.\u001b[0m\u001b[0m_coo\u001b[0m \u001b[0;32mimport\u001b[0m \u001b[0mCOO\u001b[0m\u001b[0;34m,\u001b[0m \u001b[0mas_coo\u001b[0m\u001b[0;34m\u001b[0m\u001b[0;34m\u001b[0m\u001b[0m\n\u001b[0m\u001b[1;32m      2\u001b[0m \u001b[0;32mfrom\u001b[0m \u001b[0;34m.\u001b[0m\u001b[0m_compressed\u001b[0m \u001b[0;32mimport\u001b[0m \u001b[0mGCXS\u001b[0m\u001b[0;34m\u001b[0m\u001b[0;34m\u001b[0m\u001b[0m\n\u001b[1;32m      3\u001b[0m \u001b[0;32mfrom\u001b[0m \u001b[0;34m.\u001b[0m\u001b[0m_dok\u001b[0m \u001b[0;32mimport\u001b[0m \u001b[0mDOK\u001b[0m\u001b[0;34m\u001b[0m\u001b[0;34m\u001b[0m\u001b[0m\n\u001b[1;32m      4\u001b[0m \u001b[0;32mfrom\u001b[0m \u001b[0;34m.\u001b[0m\u001b[0m_sparse_array\u001b[0m \u001b[0;32mimport\u001b[0m \u001b[0mSparseArray\u001b[0m\u001b[0;34m\u001b[0m\u001b[0;34m\u001b[0m\u001b[0m\n\u001b[1;32m      5\u001b[0m \u001b[0;32mfrom\u001b[0m \u001b[0;34m.\u001b[0m\u001b[0m_utils\u001b[0m \u001b[0;32mimport\u001b[0m \u001b[0mrandom\u001b[0m\u001b[0;34m\u001b[0m\u001b[0;34m\u001b[0m\u001b[0m\n",
      "\u001b[0;32m/content/gdrive/My Drive/Colab Notebooks/python_package/sparse/_coo/__init__.py\u001b[0m in \u001b[0;36m<module>\u001b[0;34m\u001b[0m\n\u001b[0;32m----> 1\u001b[0;31m \u001b[0;32mfrom\u001b[0m \u001b[0;34m.\u001b[0m\u001b[0mcore\u001b[0m \u001b[0;32mimport\u001b[0m \u001b[0mCOO\u001b[0m\u001b[0;34m,\u001b[0m \u001b[0mas_coo\u001b[0m\u001b[0;34m\u001b[0m\u001b[0;34m\u001b[0m\u001b[0m\n\u001b[0m\u001b[1;32m      2\u001b[0m from .common import (\n\u001b[1;32m      3\u001b[0m     \u001b[0mconcatenate\u001b[0m\u001b[0;34m,\u001b[0m\u001b[0;34m\u001b[0m\u001b[0;34m\u001b[0m\u001b[0m\n\u001b[1;32m      4\u001b[0m     \u001b[0mclip\u001b[0m\u001b[0;34m,\u001b[0m\u001b[0;34m\u001b[0m\u001b[0;34m\u001b[0m\u001b[0m\n\u001b[1;32m      5\u001b[0m     \u001b[0mstack\u001b[0m\u001b[0;34m,\u001b[0m\u001b[0;34m\u001b[0m\u001b[0;34m\u001b[0m\u001b[0m\n",
      "\u001b[0;32m/content/gdrive/My Drive/Colab Notebooks/python_package/sparse/_coo/core.py\u001b[0m in \u001b[0;36m<module>\u001b[0;34m\u001b[0m\n\u001b[1;32m      7\u001b[0m \u001b[0;34m\u001b[0m\u001b[0m\n\u001b[1;32m      8\u001b[0m \u001b[0;32mimport\u001b[0m \u001b[0mnumpy\u001b[0m \u001b[0;32mas\u001b[0m \u001b[0mnp\u001b[0m\u001b[0;34m\u001b[0m\u001b[0;34m\u001b[0m\u001b[0m\n\u001b[0;32m----> 9\u001b[0;31m \u001b[0;32mimport\u001b[0m \u001b[0mnumba\u001b[0m\u001b[0;34m\u001b[0m\u001b[0;34m\u001b[0m\u001b[0m\n\u001b[0m\u001b[1;32m     10\u001b[0m \u001b[0;32mimport\u001b[0m \u001b[0mscipy\u001b[0m\u001b[0;34m.\u001b[0m\u001b[0msparse\u001b[0m\u001b[0;34m\u001b[0m\u001b[0;34m\u001b[0m\u001b[0m\n\u001b[1;32m     11\u001b[0m \u001b[0;32mfrom\u001b[0m \u001b[0mnumpy\u001b[0m\u001b[0;34m.\u001b[0m\u001b[0mlib\u001b[0m\u001b[0;34m.\u001b[0m\u001b[0mmixins\u001b[0m \u001b[0;32mimport\u001b[0m \u001b[0mNDArrayOperatorsMixin\u001b[0m\u001b[0;34m\u001b[0m\u001b[0;34m\u001b[0m\u001b[0m\n",
      "\u001b[0;32m/content/gdrive/My Drive/Colab Notebooks/python_package/numba/__init__.py\u001b[0m in \u001b[0;36m<module>\u001b[0;34m\u001b[0m\n\u001b[1;32m    229\u001b[0m     \u001b[0;32mreturn\u001b[0m \u001b[0;32mFalse\u001b[0m\u001b[0;34m\u001b[0m\u001b[0;34m\u001b[0m\u001b[0m\n\u001b[1;32m    230\u001b[0m \u001b[0;34m\u001b[0m\u001b[0m\n\u001b[0;32m--> 231\u001b[0;31m \u001b[0m_ensure_llvm\u001b[0m\u001b[0;34m(\u001b[0m\u001b[0;34m)\u001b[0m\u001b[0;34m\u001b[0m\u001b[0;34m\u001b[0m\u001b[0m\n\u001b[0m\u001b[1;32m    232\u001b[0m \u001b[0;34m\u001b[0m\u001b[0m\n\u001b[1;32m    233\u001b[0m \u001b[0;31m# we know llvmlite is working as the above tests passed, import it now as SVML\u001b[0m\u001b[0;34m\u001b[0m\u001b[0;34m\u001b[0m\u001b[0m\n",
      "\u001b[0;32m/content/gdrive/My Drive/Colab Notebooks/python_package/numba/__init__.py\u001b[0m in \u001b[0;36m_ensure_llvm\u001b[0;34m()\u001b[0m\n\u001b[1;32m    165\u001b[0m                    \u001b[0;34m\"Please update llvmlite.\"\u001b[0m \u001b[0;34m%\u001b[0m\u001b[0;34m\u001b[0m\u001b[0;34m\u001b[0m\u001b[0m\n\u001b[1;32m    166\u001b[0m                    (_min_llvmlite_version + (llvmlite.__version__,)))\n\u001b[0;32m--> 167\u001b[0;31m             \u001b[0;32mraise\u001b[0m \u001b[0mImportError\u001b[0m\u001b[0;34m(\u001b[0m\u001b[0mmsg\u001b[0m\u001b[0;34m)\u001b[0m\u001b[0;34m\u001b[0m\u001b[0;34m\u001b[0m\u001b[0m\n\u001b[0m\u001b[1;32m    168\u001b[0m     \u001b[0;32melse\u001b[0m\u001b[0;34m:\u001b[0m\u001b[0;34m\u001b[0m\u001b[0;34m\u001b[0m\u001b[0m\n\u001b[1;32m    169\u001b[0m         \u001b[0;31m# Not matching?\u001b[0m\u001b[0;34m\u001b[0m\u001b[0;34m\u001b[0m\u001b[0m\n",
      "\u001b[0;31mImportError\u001b[0m: Numba requires at least version 0.40.0 of llvmlite.\nInstalled version is 0.39.1.\nPlease update llvmlite.",
      "",
      "\u001b[0;31m---------------------------------------------------------------------------\u001b[0;32m\nNOTE: If your import is failing due to a missing package, you can\nmanually install dependencies using either !pip or !apt.\n\nTo view examples of installing some common dependencies, click the\n\"Open Examples\" button below.\n\u001b[0;31m---------------------------------------------------------------------------\u001b[0m\n"
     ]
    }
   ],
   "source": [
    "import sparse"
   ]
  },
  {
   "cell_type": "code",
   "execution_count": null,
   "metadata": {
    "id": "Qj3pVFMFep5A"
   },
   "outputs": [],
   "source": [
    "from IPython.display import HTML, display, Javascript\n",
    "from torch_geometric.datasets import TUDataset\n",
    "import numpy as np\n",
    "%matplotlib inline\n",
    "import networkx as nx\n",
    "import matplotlib.pyplot as plt\n",
    "import torch\n",
    "import torch.nn.functional as F\n",
    "import torch.nn as nn"
   ]
  },
  {
   "cell_type": "code",
   "execution_count": null,
   "metadata": {
    "colab": {
     "base_uri": "https://localhost:8080/"
    },
    "id": "5I15ZQ6Ber2L",
    "outputId": "48b1876f-2b70-4828-9c83-57035cdabd97"
   },
   "outputs": [
    {
     "name": "stdout",
     "output_type": "stream",
     "text": [
      "Loaded device: cpu\n"
     ]
    }
   ],
   "source": [
    "device = torch.device('cuda' if torch.cuda.is_available() else 'cpu')\n",
    "#device='cpu'\n",
    "print(f'Loaded device: {device}')"
   ]
  },
  {
   "cell_type": "markdown",
   "metadata": {
    "id": "RyymCSO2ZLVf"
   },
   "source": [
    "# Data Preparation"
   ]
  },
  {
   "cell_type": "code",
   "execution_count": null,
   "metadata": {
    "colab": {
     "base_uri": "https://localhost:8080/"
    },
    "id": "pw0gBOeOCLPh",
    "outputId": "d22431ab-82c7-4893-e332-cab016fd975e"
   },
   "outputs": [
    {
     "name": "stderr",
     "output_type": "stream",
     "text": [
      "Downloading https://www.chrsmrrs.com/graphkerneldatasets/Mutagenicity.zip\n",
      "Extracting data/mutagen/Mutagenicity/Mutagenicity.zip\n",
      "Processing...\n",
      "Done!\n"
     ]
    }
   ],
   "source": [
    "# We will use the Mutagenicity dataset, which is part of the standard datasets in torch geometric.\n",
    "# downloading may take some time\n",
    "dataset = TUDataset(root='data/mutagen', name='Mutagenicity', use_node_attr=True, use_edge_attr=False)"
   ]
  },
  {
   "cell_type": "code",
   "execution_count": null,
   "metadata": {
    "id": "GyRErYqbCS9R"
   },
   "outputs": [],
   "source": [
    "# the below list and dict maps an integer to the corresponiding element string and an element string to a color respectively.\n",
    "# this will be useful for plotting molecules later on\n",
    "\n",
    "element_map = ['C', 'O', 'Cl', 'H', 'N', 'F', 'Br', 'S', 'P', 'I', 'Na', 'K', 'Li', 'Ca']\n",
    "element_color = {\n",
    "    'H': [1.0, 1.0, 1.0],\n",
    " 'Li': [0.8, 0.5019607843137255, 1.0],\n",
    " 'C': [0.5647058823529412, 0.5647058823529412, 0.5647058823529412],\n",
    " 'N': [0.18823529411764706, 0.3137254901960784, 0.9725490196078431],\n",
    " 'O': [1.0, 0.050980392156862744, 0.050980392156862744],\n",
    " 'F': [0.5647058823529412, 0.8784313725490196, 0.3137254901960784],\n",
    " 'Na': [0.6705882352941176, 0.3607843137254902, 0.9490196078431372],\n",
    " 'P': [1.0, 0.5019607843137255, 0.0],\n",
    " 'S': [1.0, 1.0, 0.18823529411764706],\n",
    " 'Cl': [0.12156862745098039, 0.9411764705882353, 0.12156862745098039],\n",
    " 'K': [0.5607843137254902, 0.25098039215686274, 0.8313725490196079],\n",
    " 'Ca': [0.23921568627450981, 1.0, 0.0],\n",
    "'Br': [0.6509803921568628, 0.1607843137254902, 0.1607843137254902],\n",
    " 'I': [0.5803921568627451, 0.0, 0.5803921568627451]}"
   ]
  },
  {
   "cell_type": "code",
   "execution_count": null,
   "metadata": {
    "colab": {
     "base_uri": "https://localhost:8080/"
    },
    "id": "RFrRGRTLCZ5w",
    "outputId": "4ba044bf-dedd-4c46-ecd4-9bfcb608e9cd"
   },
   "outputs": [
    {
     "name": "stdout",
     "output_type": "stream",
     "text": [
      "Number of examples: 4337\n",
      "\n",
      "Let's print a few examples' shape:\n",
      "Data(edge_index=[2, 32], x=[16, 14], edge_attr=[32, 3], y=[1])\n",
      "Data(edge_index=[2, 154], x=[72, 14], edge_attr=[154, 3], y=[1])\n",
      "Data(edge_index=[2, 26], x=[14, 14], edge_attr=[26, 3], y=[1])\n",
      "Data(edge_index=[2, 76], x=[36, 14], edge_attr=[76, 3], y=[1])\n"
     ]
    }
   ],
   "source": [
    "print(f'Number of examples: {len(dataset)}')\n",
    "print('')\n",
    "print(\"Let's print a few examples' shape:\")\n",
    "for i in range(4):\n",
    "    print(dataset[i])"
   ]
  },
  {
   "cell_type": "code",
   "execution_count": null,
   "metadata": {
    "id": "QppEskvDCayg"
   },
   "outputs": [],
   "source": [
    "def draw_molecule(graph, title=''):\n",
    "    plt.figure(figsize=(10, 5))\n",
    "    nodes = {}  # create a node dict (idx:element) to create a nx graph\n",
    "    for i in range(graph.x.shape[0]):\n",
    "        element_idx = np.argmax(graph.x[i])\n",
    "        nodes[i] = element_map[element_idx]\n",
    "    edges = []  # create an edge list for the nx graph\n",
    "    for i in range(graph.edge_index.shape[1]):\n",
    "        s, t = graph.edge_index[:, [i]]\n",
    "        s, t = int(s), int(t)\n",
    "        edges.append((s, t))\n",
    "\n",
    "    g = nx.Graph()  # create a graph\n",
    "    g.add_nodes_from(nodes)\n",
    "    g.add_edges_from(edges) \n",
    "    \n",
    "    pos = nx.planar_layout(g)  # the graph has no 'position': generate a node-layout\n",
    "    pos = nx.spring_layout(g, pos=pos)\n",
    "\n",
    "    colors = [element_color[i] for _, i in nodes.items()]  # set the color for each node\n",
    "    nx.draw(g, pos=pos, labels=nodes, node_color=colors, width=1)  # and draw the graph\n",
    "    \n",
    "    ax = plt.gca()\n",
    "    ax.collections[0].set_edgecolor(\"#000000\")  # color the edges\n",
    "    \n",
    "    display(HTML(\"\"\"<style>#output-body {display: flex;align-items: center;justify-content: center;}</style>\"\"\"))  # center the image\n",
    "    \n",
    "    plt.title(title)\n",
    "    plt.show()"
   ]
  },
  {
   "cell_type": "code",
   "execution_count": null,
   "metadata": {
    "colab": {
     "base_uri": "https://localhost:8080/",
     "height": 559
    },
    "id": "9u4umQ9-CjsV",
    "outputId": "79141e2b-30a3-4776-efb7-b64abe0ae27a"
   },
   "outputs": [
    {
     "data": {
      "text/html": [
       "<style>#output-body {display: flex;align-items: center;justify-content: center;}</style>"
      ],
      "text/plain": [
       "<IPython.core.display.HTML object>"
      ]
     },
     "metadata": {},
     "output_type": "display_data"
    },
    {
     "data": {
      "image/png": "[encoded data removed]",
      "text/plain": [
       "<Figure size 1000x500 with 1 Axes>"
      ]
     },
     "metadata": {},
     "output_type": "display_data"
    }
   ],
   "source": [
    "idx = 0\n",
    "draw_molecule(dataset[idx], f'Sample {idx}, Mutagenicity = {bool(dataset[idx].y)}')"
   ]
  },
  {
   "cell_type": "code",
   "execution_count": null,
   "metadata": {
    "id": "9WvJ2BlCCmwv"
   },
   "outputs": [],
   "source": [
    "'''\n",
    "We simply shuffle and split the dataset to create a train and validation set.\n",
    "'''\n",
    "dataset.shuffle() # first, shuffle our dataset\n",
    "train_idx = round(len(dataset) * 0.8) # 80:20 for the train:validation split\n",
    "dataset_train = dataset[:train_idx]\n",
    "dataset_val = dataset[train_idx:]"
   ]
  },
  {
   "cell_type": "code",
   "execution_count": null,
   "metadata": {
    "id": "RfSnIbW8CtTu"
   },
   "outputs": [],
   "source": [
    "'''\n",
    "To process the dataset in minibatches, we use a DataLoader object. All we must do\n",
    "is supply the data and set the batch_size, PyTorch Geometric will take care of the rest.\n",
    "Note that the batch_size indicates the number of graphs in a batch, not the number of nodes.\n",
    "'''\n",
    "from torch_geometric.loader import DataLoader\n",
    "\n",
    "batch_size = 256\n",
    "train_loader = DataLoader(dataset_train, batch_size=batch_size, shuffle=True)\n",
    "val_loader = DataLoader(dataset_val, batch_size=batch_size, shuffle=False)"
   ]
  },
  {
   "cell_type": "code",
   "execution_count": null,
   "metadata": {
    "id": "rrKBwknSqQBC"
   },
   "outputs": [],
   "source": []
  },
  {
   "cell_type": "code",
   "execution_count": null,
   "metadata": {
    "colab": {
     "base_uri": "https://localhost:8080/",
     "height": 513
    },
    "id": "qpW0uzZ5Cx36",
    "outputId": "45e60911-e1e2-4c61-f959-7c97b88bbfd6"
   },
   "outputs": [
    {
     "name": "stdout",
     "output_type": "stream",
     "text": [
      "tensor([[ 0,  0,  0,  0,  1,  1,  1,  1,  2,  2,  3,  3,  3,  3,  4,  4,  4,  4,\n",
      "          5,  5,  5,  5,  6,  6,  6,  6,  7,  7,  7,  7,  8,  8,  8,  8,  9, 10,\n",
      "         11, 12, 13, 14, 15, 16, 17, 18, 19, 20, 21, 22],\n",
      "        [ 1,  2,  3,  9,  0,  2,  4, 10,  0,  1,  0,  5, 11, 12,  1,  6, 13, 14,\n",
      "          3,  7, 15, 16,  4,  8, 17, 18,  5,  8, 19, 20,  6,  7, 21, 22,  0,  1,\n",
      "          3,  3,  4,  4,  5,  5,  6,  6,  7,  7,  8,  8]])\n",
      "<class 'torch_geometric.data.data.Data'>\n",
      "[[ 0  0  0  0  1  1  1  1  2  2  3  3  3  3  4  4  4  4  5  5  5  5  6  6\n",
      "   6  6  7  7  7  7  8  8  8  8  9 10 11 12 13 14 15 16 17 18 19 20 21 22]\n",
      " [ 1  2  3  9  0  2  4 10  0  1  0  5 11 12  1  6 13 14  3  7 15 16  4  8\n",
      "  17 18  5  8 19 20  6  7 21 22  0  1  3  3  4  4  5  5  6  6  7  7  8  8]]\n"
     ]
    },
    {
     "ename": "TypeError",
     "evalue": "ignored",
     "output_type": "error",
     "traceback": [
      "\u001b[0;31m---------------------------------------------------------------------------\u001b[0m",
      "\u001b[0;31mTypeError\u001b[0m                                 Traceback (most recent call last)",
      "\u001b[0;32m<ipython-input-14-e2ef6a7cd816>\u001b[0m in \u001b[0;36m<cell line: 3>\u001b[0;34m()\u001b[0m\n\u001b[1;32m      5\u001b[0m     \u001b[0mprint\u001b[0m\u001b[0;34m(\u001b[0m\u001b[0mtype\u001b[0m\u001b[0;34m(\u001b[0m\u001b[0mdata\u001b[0m\u001b[0;34m[\u001b[0m\u001b[0;36m0\u001b[0m\u001b[0;34m]\u001b[0m\u001b[0;34m)\u001b[0m\u001b[0;34m)\u001b[0m\u001b[0;34m\u001b[0m\u001b[0;34m\u001b[0m\u001b[0m\n\u001b[1;32m      6\u001b[0m     \u001b[0mprint\u001b[0m\u001b[0;34m(\u001b[0m\u001b[0mdata\u001b[0m\u001b[0;34m[\u001b[0m\u001b[0;36m0\u001b[0m\u001b[0;34m]\u001b[0m\u001b[0;34m.\u001b[0m\u001b[0medge_index\u001b[0m\u001b[0;34m.\u001b[0m\u001b[0mnumpy\u001b[0m\u001b[0;34m(\u001b[0m\u001b[0;34m)\u001b[0m\u001b[0;34m)\u001b[0m\u001b[0;34m\u001b[0m\u001b[0;34m\u001b[0m\u001b[0m\n\u001b[0;32m----> 7\u001b[0;31m     \u001b[0ms\u001b[0m \u001b[0;34m=\u001b[0m \u001b[0mtorch\u001b[0m\u001b[0;34m.\u001b[0m\u001b[0msparse\u001b[0m\u001b[0;34m.\u001b[0m\u001b[0mFloatTensor\u001b[0m\u001b[0;34m(\u001b[0m\u001b[0mdata\u001b[0m\u001b[0;34m[\u001b[0m\u001b[0;36m0\u001b[0m\u001b[0;34m]\u001b[0m\u001b[0;34m.\u001b[0m\u001b[0medge_index\u001b[0m\u001b[0;34m,\u001b[0m \u001b[0mtorch\u001b[0m\u001b[0;34m.\u001b[0m\u001b[0mones\u001b[0m\u001b[0;34m(\u001b[0m\u001b[0;36m1\u001b[0m\u001b[0;34m,\u001b[0m \u001b[0mlen\u001b[0m\u001b[0;34m(\u001b[0m\u001b[0mdata\u001b[0m\u001b[0;34m[\u001b[0m\u001b[0;36m0\u001b[0m\u001b[0;34m]\u001b[0m\u001b[0;34m.\u001b[0m\u001b[0medge_index\u001b[0m\u001b[0;34m[\u001b[0m\u001b[0;36m0\u001b[0m\u001b[0;34m]\u001b[0m\u001b[0;34m)\u001b[0m\u001b[0;34m)\u001b[0m\u001b[0;34m,\u001b[0m \u001b[0mshape\u001b[0m\u001b[0;34m=\u001b[0m\u001b[0;34m(\u001b[0m\u001b[0mdata\u001b[0m\u001b[0;34m[\u001b[0m\u001b[0;36m0\u001b[0m\u001b[0;34m]\u001b[0m\u001b[0;34m.\u001b[0m\u001b[0mx\u001b[0m\u001b[0;34m.\u001b[0m\u001b[0mshape\u001b[0m\u001b[0;34m[\u001b[0m\u001b[0;36m0\u001b[0m\u001b[0;34m]\u001b[0m\u001b[0;34m,\u001b[0m \u001b[0mdata\u001b[0m\u001b[0;34m[\u001b[0m\u001b[0;36m0\u001b[0m\u001b[0;34m]\u001b[0m\u001b[0;34m.\u001b[0m\u001b[0mx\u001b[0m\u001b[0;34m.\u001b[0m\u001b[0mshape\u001b[0m\u001b[0;34m[\u001b[0m\u001b[0;36m0\u001b[0m\u001b[0;34m]\u001b[0m\u001b[0;34m)\u001b[0m\u001b[0;34m)\u001b[0m\u001b[0;34m\u001b[0m\u001b[0;34m\u001b[0m\u001b[0m\n\u001b[0m\u001b[1;32m      8\u001b[0m     \u001b[0mprint\u001b[0m\u001b[0;34m(\u001b[0m\u001b[0ms\u001b[0m\u001b[0;34m)\u001b[0m\u001b[0;34m\u001b[0m\u001b[0;34m\u001b[0m\u001b[0m\n\u001b[1;32m      9\u001b[0m \u001b[0;34m\u001b[0m\u001b[0m\n",
      "\u001b[0;31mTypeError\u001b[0m: new() received an invalid combination of arguments - got (Tensor, Tensor, shape=tuple), but expected one of:\n * (*, torch.device device)\n * (Tensor indices, Tensor values, *, torch.device device)\n * (Tensor indices, Tensor values, tuple of ints size, *, torch.device device)\n * (tuple of ints size, *, torch.device device)\n      didn't match because some of the keywords were incorrect: shape\n"
     ]
    }
   ],
   "source": [
    "# To understand how graphs are batched, print one\n",
    "\n",
    "for data in train_loader:\n",
    "    print(data[0].edge_index)\n",
    "    print(type(data[0]))\n",
    "    print(data[0].edge_index.numpy())\n",
    "    s = torch.sparse.FloatTensor(data[0].edge_index, torch.ones(1, len(data[0].edge_index[0])), shape=(data[0].x.shape[0], data[0].x.shape[0]))\n",
    "    print(s)\n",
    "    \n",
    "    break"
   ]
  },
  {
   "cell_type": "code",
   "execution_count": null,
   "metadata": {
    "id": "RjAj7OgqC8kL"
   },
   "outputs": [],
   "source": [
    "num_features = int(dataset_train[0].x.shape[1])\n",
    "num_classes = int(max([d.y for d in dataset_train])+1)\n",
    "import torch\n",
    "import torch.nn as nn"
   ]
  },
  {
   "cell_type": "code",
   "execution_count": null,
   "metadata": {
    "id": "WnOFO3EMwdJB"
   },
   "outputs": [],
   "source": [
    "len(dataset_train)"
   ]
  },
  {
   "cell_type": "code",
   "execution_count": null,
   "metadata": {
    "id": "98p2tMepdQY1"
   },
   "outputs": [],
   "source": [
    "3470%256"
   ]
  },
  {
   "cell_type": "markdown",
   "metadata": {
    "id": "Sj85cBRFAD5L"
   },
   "source": [
    "# Model\n"
   ]
  },
  {
   "cell_type": "code",
   "execution_count": null,
   "metadata": {
    "id": "aFXNIR2_ACiK"
   },
   "outputs": [],
   "source": [
    "class Node_to_emb(nn.Module):  # transforms input nodes to an embedding (similar to word embedding in NLP)\n",
    "    #### why would an embedding layer be useful?\n",
    "\n",
    "    def __init__(self, node_feat_dim=14, node_emb_dim=64):\n",
    "        super().__init__()\n",
    "        self.emb_dim = node_emb_dim\n",
    "        self.node_dim = node_feat_dim\n",
    "        self.emb = nn.Linear(self.node_dim, self.emb_dim)\n",
    "        \n",
    "\n",
    "    def forward(self, nodes):\n",
    "        assert nodes.size(-1) == self.node_dim, 'wrong input dimension of node features!'\n",
    "        out = self.emb(nodes)\n",
    "        return out\n",
    "\n",
    "class MpLayer(torch.nn.Module):  # a neural message passing layer\n",
    "    def __init__(self, hidden_dim, activation=nn.ReLU()):\n",
    "        super(MpLayer, self).__init__()\n",
    "        \n",
    "        self.edge_network = nn.Sequential(nn.Linear(2*hidden_dim, hidden_dim),\n",
    "                                          activation,\n",
    "                                          nn.Linear(hidden_dim, hidden_dim),\n",
    "                                          activation\n",
    "                                          )\n",
    "        \n",
    "        self.node_network = nn.Sequential(nn.Linear(2*hidden_dim, hidden_dim),\n",
    "                                          activation,\n",
    "                                          nn.Linear(hidden_dim, hidden_dim),\n",
    "                                          )\n",
    "        \n",
    "    def forward(self, input_to_layer):\n",
    "        node_tensor, edge_idx_tensor = input_to_layer\n",
    "        edge_messages_input = torch.concat([node_tensor[edge_idx_tensor[0,:]], node_tensor[edge_idx_tensor[1,:]]], dim=-1) # shape (num_edges, 2*node_dim + edge_dim)\n",
    "        edge_messages_output = self.edge_network(edge_messages_input) # shape (num_edges, hidden_dim)\n",
    "        \n",
    "        #now aggregate the edge messages for each node the edge points to:\n",
    "        \n",
    "        node_agg_messages = torch.zeros(node_tensor.size(0), node_tensor.size(1)).to(node_tensor.device)\n",
    "        node_agg_messages = node_agg_messages.scatter_add_(\n",
    "            dim=0, index=edge_idx_tensor[1].unsqueeze(-1).expand(-1, node_tensor.size(1)), src=edge_messages_output\n",
    "        )\n",
    "        \n",
    "        \n",
    "        #put the aggregated messages through the node update network:\n",
    "        node_out = self.node_network(torch.cat([node_tensor, node_agg_messages], dim=-1))\n",
    "\n",
    "        return node_out, edge_idx_tensor\n",
    "\n",
    "class MpGNN(torch.nn.Module): # a message passing GNN\n",
    "    def __init__(self, node_feat_dim, hidden_dim, activation=nn.ReLU(), num_classes=2):\n",
    "        super(MpGNN, self).__init__()\n",
    "        \n",
    "        #  Hint: the MpGNN must embed the categorical node features, apply message passing layers,\n",
    "        #        and finally predict the mutagenicity of each graph in the batch.\n",
    "        \n",
    "        self.embedding = Node_to_emb(node_feat_dim, hidden_dim)\n",
    "        self.mp1 = MpLayer(hidden_dim, activation)\n",
    "        self.mp2 = MpLayer(hidden_dim, activation)\n",
    "        \n",
    "        self.fc = nn.Linear(hidden_dim, num_classes)\n",
    "        \n",
    "        \n",
    "\n",
    "    def forward(self, x, edge_index, batch):\n",
    "        x = self.embedding(x)\n",
    "\n",
    "        input_model = (x, edge_index)\n",
    "        output_model = self.mp1(input_model)\n",
    "        output_model = self.mp2(output_model)\n",
    "        x, edge_index = output_model\n",
    "        \n",
    "        out = torch.zeros(max(batch)+1, x.size(1)).to(x.device)\n",
    "        idx_aggregate_graph = batch.unsqueeze(-1).expand(-1, x.size(1))\n",
    "    \n",
    "        out.scatter_add_(dim=0, index=idx_aggregate_graph, src=x) # aggregate all node embeddings per graph in the batch\n",
    "        \n",
    "        x = self.fc(out)\n",
    "        return x\n",
    "\n",
    "class Layer_MpGNN(torch.nn.Module): # a message passing GNN\n",
    "    def __init__(self, node_feat_dim, hidden_dim, activation=nn.ReLU(), num_classes=2):\n",
    "        super(Layer_MpGNN, self).__init__()\n",
    "        \n",
    "        #  Hint: the MpGNN must embed the categorical node features, apply message passing layers,\n",
    "        #        and finally predict the mutagenicity of each graph in the batch.\n",
    "        \n",
    "        self.embedding = Node_to_emb(node_feat_dim, hidden_dim)\n",
    "        self.mp1 = MpLayer(hidden_dim, activation)\n",
    "        self.mp2 = MpLayer(hidden_dim, activation)\n",
    "        \n",
    "        self.fc = nn.Linear(hidden_dim, num_classes)\n",
    "        \n",
    "\n",
    "    def forward(self, x, edge_index, batch, training_layer='fc'):\n",
    "        if training_layer == 'embedding':\n",
    "            x = self.embedding(x)\n",
    "            x = (x, edge_index)\n",
    "            \n",
    "        elif training_layer == 'mp1': \n",
    "            x = self.embedding(x)\n",
    "            input_model = (x, edge_index)\n",
    "            x = self.mp1(input_model)\n",
    "            \n",
    "        elif training_layer == 'mp2':\n",
    "            x = self.embedding(x)\n",
    "            input_model = (x, edge_index)\n",
    "            output_model = self.mp1(input_model)\n",
    "            x, edge_index = self.mp2(output_model)\n",
    "\n",
    "            out = torch.zeros(max(batch)+1, x.size(1)).to(x.device)\n",
    "            idx_aggregate_graph = batch.unsqueeze(-1).expand(-1, x.size(1))\n",
    "    \n",
    "            x = out.scatter_add_(dim=0, index=idx_aggregate_graph, src=x) # aggregate all node embeddings per graph in the batch\n",
    "            #print(x, x.shape)\n",
    "        elif training_layer == 'fc':\n",
    "            x = self.embedding(x)\n",
    "\n",
    "            input_model = (x, edge_index)\n",
    "            output_model = self.mp1(input_model)\n",
    "            output_model = self.mp2(output_model)\n",
    "            x, edge_index = output_model\n",
    "        \n",
    "            out = torch.zeros(max(batch)+1, x.size(1)).to(x.device)\n",
    "            idx_aggregate_graph = batch.unsqueeze(-1).expand(-1, x.size(1))\n",
    "    \n",
    "            x = out.scatter_add_(dim=0, index=idx_aggregate_graph, src=x) # aggregate all node embeddings per graph in the batch\n",
    "\n",
    "        \n",
    "            x = self.fc(x)\n",
    "        return x"
   ]
  },
  {
   "cell_type": "markdown",
   "metadata": {
    "id": "T4V1vFQOpaLB"
   },
   "source": [
    "# Evaluation"
   ]
  },
  {
   "cell_type": "code",
   "execution_count": null,
   "metadata": {
    "id": "ZQam1HxIpcP6"
   },
   "outputs": [],
   "source": [
    "def plot_loss(layer1, epoche, loss_type):\n",
    "    \"\"\"\n",
    "    plot the loss change during the training precedure\n",
    "    \"\"\"\n",
    "    plt.title(\"Train \"+ loss_type)\n",
    "    plt.xlabel(\"epoch\")\n",
    "    plt.ylabel(loss_type)\n",
    "    epoche_range=[i+1 for i in range(epoche)]\n",
    "    plt.plot(epoche_range, layer1)\n",
    "    #plt.plot(epoche_range, layer2)\n",
    "    #plt.plot(epoche_range, fc)\n",
    "    plt.legend([loss_type], loc='best')\n",
    "    plt.show()\n",
    "\n",
    "def plot_acc(train, test, epoche):\n",
    "    \"\"\"\n",
    "    plot the loss change during the training precedure\n",
    "    \"\"\"\n",
    "    plt.title(\"Train and validation Accuarcy\")\n",
    "    plt.xlabel(\"epoch\")\n",
    "    plt.ylabel(\"accuracy\")\n",
    "    epoche_range=[i+1 for i in range(epoche)]\n",
    "    plt.plot(epoche_range, train)\n",
    "    plt.plot(epoche_range, test)\n",
    "    #plt.plot(epoche_range, fc)\n",
    "    plt.legend(['train accuracy', 'test accuracy'], loc='best')\n",
    "    plt.show()\n",
    "\n",
    "def eval(model, train_loader = train_loader, isprint=True):\n",
    "    model.eval()  # set the model to evaluation mode (no dropout)\n",
    "    \n",
    "    correct = 0  # keep track of how many we have correct\n",
    "    total = 0  # and how many we handle in total\n",
    "    for data in train_loader:  # loop through the supplied dataset in a batch-wise fashion\n",
    "        data.to(device)  # transfer batch to device\n",
    "        out = model(data.x, data.edge_index, data.batch)  # propagate the data through the model\n",
    "        pred = out.argmax(dim=1)  # as prediction, we take the class with the highest probability\n",
    "        correct += int((pred == data.y).sum())  # add the number of correct predictions\n",
    "        total += len(data.y)  # and add the total number of elements\n",
    "    train_acc = correct / total  # return the accuracy\n",
    "\n",
    "    correct = 0  # keep track of how many we have correct\n",
    "    total = 0  # and how many we handle in total\n",
    "    for data in val_loader:  # loop through the supplied dataset in a batch-wise fashion\n",
    "        data.to(device)  # transfer batch to device\n",
    "        out = model(data.x, data.edge_index, data.batch)  # propagate the data through the model\n",
    "        pred = out.argmax(dim=1)  # as prediction, we take the class with the highest probability\n",
    "        correct += int((pred == data.y).sum())  # add the number of correct predictions\n",
    "        total += len(data.y)  # and add the total number of elements\n",
    "    val_acc = correct / total  # return the accuracy\n",
    "\n",
    "    if isprint:\n",
    "        print('Accuracy of the network on the train: {} %'.format(100 * train_acc))\n",
    "        print('Accuracy of the network on the test: {} %'.format(100 * val_acc))\n",
    "    \n",
    "    return train_acc, val_acc "
   ]
  },
  {
   "cell_type": "markdown",
   "metadata": {
    "id": "4cTAAFRS3tee"
   },
   "source": [
    "# GMI"
   ]
  },
  {
   "cell_type": "code",
   "execution_count": null,
   "metadata": {
    "id": "o3n7ZmQACGJH"
   },
   "outputs": [],
   "source": [
    "import math\n",
    "\n",
    "torch.autograd.set_detect_anomaly(True)\n",
    "\n",
    "EPS = 1e-6\n",
    "\n",
    "class EMALoss(torch.autograd.Function):\n",
    "    @staticmethod\n",
    "    def forward(ctx, input, running_ema):\n",
    "        ctx.save_for_backward(input, running_ema)\n",
    "        input_log_sum_exp = input.exp().mean().log()\n",
    "\n",
    "        return input_log_sum_exp\n",
    "\n",
    "    @staticmethod\n",
    "    def backward(ctx, grad_output):\n",
    "        input, running_mean = ctx.saved_tensors\n",
    "        grad = grad_output * input.exp().detach() / \\\n",
    "            (running_mean + EPS) / input.shape[0]\n",
    "        return grad, None\n",
    "\n",
    "\n",
    "def ema(mu, alpha, past_ema):\n",
    "    return alpha * mu + (1.0 - alpha) * past_ema\n",
    "\n",
    "\n",
    "def ema_loss(x, running_mean, alpha):\n",
    "    t_exp = torch.exp(torch.logsumexp(x, 0) - math.log(x.shape[0])).detach()\n",
    "    if running_mean == 0:\n",
    "        running_mean = t_exp\n",
    "    else:\n",
    "        running_mean = ema(t_exp, alpha, running_mean.item())\n",
    "    t_log = EMALoss.apply(x, running_mean)\n",
    "\n",
    "    # Recalculate ema\n",
    "\n",
    "    return t_log, running_mean\n",
    "\n",
    "class ConcatLayer(nn.Module):\n",
    "    def __init__(self, dim=1):\n",
    "        super().__init__()\n",
    "        self.dim = dim\n",
    "\n",
    "    def forward(self, x, y):\n",
    "        x = x.view(x.shape[0], -1)\n",
    "        y = y.view(y.shape[0], -1)\n",
    "        return torch.cat((x, y), self.dim)\n",
    "\n",
    "\n",
    "class CustomSequential(nn.Sequential):\n",
    "    def forward(self, *input):\n",
    "        for module in self._modules.values():\n",
    "            if isinstance(input, tuple):\n",
    "                input = module(*input)\n",
    "            else:\n",
    "                input = module(input)\n",
    "        return input\n",
    "\n",
    "class T(nn.Module):\n",
    "    def __init__(self, x_dim, z_dim):\n",
    "        super().__init__()\n",
    "        self.layers = CustomSequential(ConcatLayer(), nn.Linear(x_dim + z_dim, 400),\n",
    "                                       nn.ReLU(),\n",
    "                                       nn.Linear(400, 400),\n",
    "                                       nn.ReLU(),\n",
    "                                       nn.Linear(400, 400),\n",
    "                                       nn.ReLU(),\n",
    "                                       nn.Linear(400, 1))\n",
    "\n",
    "    def forward(self, x, z):\n",
    "        return self.layers(x, z)\n",
    "\n",
    "class Mine(nn.Module):\n",
    "    def __init__(self, T, loss='mine', alpha=0.01, method=None):\n",
    "        super().__init__()\n",
    "        self.running_mean = 0\n",
    "        self.loss = loss\n",
    "        self.alpha = alpha\n",
    "        self.method = method\n",
    "\n",
    "        if method == 'concat':\n",
    "            if isinstance(T, nn.Sequential):\n",
    "                self.T = CustomSequential(ConcatLayer(), *T)\n",
    "            else:\n",
    "                self.T = CustomSequential(ConcatLayer(), T)\n",
    "        else:\n",
    "            self.T = T\n",
    "\n",
    "    def forward(self, x, z, z_marg=None):\n",
    "        if z_marg is None:\n",
    "            z_marg = z[torch.randperm(x.shape[0])]\n",
    "\n",
    "        t = self.T(x, z).mean()\n",
    "        t_marg = self.T(x, z_marg)\n",
    "\n",
    "        if self.loss in ['mine']:\n",
    "            second_term, self.running_mean = ema_loss(\n",
    "                t_marg, self.running_mean, self.alpha)\n",
    "        elif self.loss in ['fdiv']:\n",
    "            second_term = torch.exp(t_marg - 1).mean()\n",
    "        elif self.loss in ['mine_biased']:\n",
    "            second_term = torch.logsumexp(\n",
    "                t_marg, 0) - math.log(t_marg.shape[0])\n",
    "\n",
    "        return -t + second_term"
   ]
  },
  {
   "cell_type": "code",
   "execution_count": null,
   "metadata": {
    "id": "W72qW2mF6b2C"
   },
   "outputs": [],
   "source": [
    "import scipy.sparse as sp\n",
    "def sparse_mx_to_torch_sparse_tensor(sparse_mx):\n",
    "    \"\"\"Convert a scipy sparse matrix to a torch sparse tensor.\"\"\"\n",
    "    sparse_mx = sparse_mx.tocoo().astype(np.float32)\n",
    "    indices = torch.from_numpy(\n",
    "        np.vstack((sparse_mx.row, sparse_mx.col)).astype(np.int64))\n",
    "    values = torch.from_numpy(sparse_mx.data)\n",
    "    shape = torch.Size(sparse_mx.shape)\n",
    "    return torch.sparse.FloatTensor(indices, values, shape)\n",
    "\n",
    "def normalize_adj(adj):\n",
    "    \"\"\"Symmetrically normalize adjacency matrix.\"\"\"\n",
    "    adj = sp.coo_matrix(adj)\n",
    "    rowsum = np.array(adj.sum(1))\n",
    "    d_inv_sqrt = np.power(rowsum, -0.5).flatten()\n",
    "    d_inv_sqrt[np.isinf(d_inv_sqrt)] = 0.\n",
    "    d_mat_inv_sqrt = sp.diags(d_inv_sqrt)\n",
    "    return adj.dot(d_mat_inv_sqrt).transpose().dot(d_mat_inv_sqrt).tocoo()\n",
    "    \n",
    "def negative_sampling(adj_ori, sample_times):\n",
    "    sample_list = []\n",
    "    for j in range(sample_times):\n",
    "        sample_iter = []\n",
    "        i = 0\n",
    "        while True:\n",
    "            randnum = np.random.randint(0,adj_ori.shape[0])\n",
    "            if randnum!=i:\n",
    "                sample_iter.append(randnum)\n",
    "                i = i+1\n",
    "            if len(sample_iter)==adj_ori.shape[0]:\n",
    "                break\n",
    "        sample_list.append(sample_iter)\n",
    "    return sample_list\n",
    "\n",
    "def sp_func(arg):\n",
    "    return torch.log(1+torch.exp(arg))\n",
    "\n",
    "def mi_loss_jsd(pos, neg):\n",
    "    e_pos = torch.mean(sp_func(-pos))\n",
    "    e_neg = torch.mean(torch.mean(sp_func(neg),0))\n",
    "    return e_pos+e_neg\n",
    "\n",
    "def reconstruct_loss(pre, gnd):\n",
    "    nodes_n = gnd.shape[0]\n",
    "    edges_n = np.sum(gnd)/2\n",
    "    weight1 = (nodes_n*nodes_n-edges_n)*1.0/edges_n\n",
    "    weight2 = nodes_n*nodes_n*1.0/(nodes_n*nodes_n-edges_n)\n",
    "    gnd = torch.FloatTensor(gnd).cuda()\n",
    "    temp1 = gnd*torch.log(pre+(1e-10))*(-weight1)\n",
    "    temp2 = (1-gnd)*torch.log(1-pre+(1e-10))\n",
    "    return torch.mean(temp1-temp2)*weight2"
   ]
  },
  {
   "cell_type": "code",
   "execution_count": null,
   "metadata": {
    "id": "VC38aIm83-X4"
   },
   "outputs": [],
   "source": [
    "class GCN(nn.Module):\n",
    "    def __init__(self, in_ft, out_ft, act, bias=True):\n",
    "        super(GCN, self).__init__()\n",
    "        self.fc = nn.Linear(in_ft, out_ft, bias=False)\n",
    "        self.act = nn.PReLU() if act == 'prelu' else act\n",
    "\n",
    "        if bias:\n",
    "            self.bias = nn.Parameter(torch.FloatTensor(out_ft))\n",
    "            self.bias.data.fill_(0.0)\n",
    "        else:\n",
    "            self.register_parameter('bias', None)\n",
    "\n",
    "        for m in self.modules():\n",
    "            self.weights_init(m)\n",
    "\n",
    "    def weights_init(self, m):\n",
    "        if isinstance(m, nn.Linear):\n",
    "            torch.nn.init.xavier_uniform_(m.weight.data)\n",
    "            if m.bias is not None:\n",
    "                m.bias.data.fill_(0.0)\n",
    "\n",
    "    def forward(self, seq, adj):\n",
    "        seq_fts = self.fc(seq)\n",
    "        out = torch.unsqueeze(torch.spmm(adj, torch.squeeze(seq_fts, 0)), 0)\n",
    "\n",
    "        if self.bias is not None:\n",
    "            out += self.bias\n",
    "        \n",
    "        return self.act(out), seq_fts\n",
    "\n",
    "class Discriminator(nn.Module):\n",
    "    def __init__(self, n_h1, n_h2):\n",
    "        super(Discriminator, self).__init__()\n",
    "        self.f_k = nn.Bilinear(n_h1, n_h2, 1)\n",
    "        self.act = nn.Sigmoid()\n",
    "\n",
    "        for m in self.modules():\n",
    "            self.weights_init(m)\n",
    "\n",
    "    def weights_init(self, m):\n",
    "        if isinstance(m, nn.Bilinear):\n",
    "            torch.nn.init.xavier_uniform_(m.weight.data)\n",
    "            if m.bias is not None:\n",
    "                m.bias.data.fill_(0.0)\n",
    "\n",
    "    def forward(self, h_c, h_pl, sample_list, s_bias1=None, s_bias2=None):\n",
    "        sc_1 = torch.squeeze(self.f_k(h_pl, h_c), 2)\n",
    "        sc_1 = self.act(sc_1)\n",
    "        sc_2_list = []\n",
    "        for i in range(len(sample_list)):\n",
    "            h_mi = torch.unsqueeze(h_pl[0][sample_list[i]],0)\n",
    "            sc_2_iter = torch.squeeze(self.f_k(h_mi, h_c), 2)\n",
    "            sc_2_list.append(sc_2_iter)\n",
    "        sc_2_stack = torch.squeeze(torch.stack(sc_2_list,1),0)\n",
    "        sc_2 = self.act(sc_2_stack)\n",
    "\n",
    "        if s_bias1 is not None:\n",
    "            sc_1 += s_bias1\n",
    "        if s_bias2 is not None:\n",
    "            sc_2 += s_bias2\n",
    "\n",
    "        return sc_1, sc_2\n",
    "\n",
    "\n",
    "\n",
    "# Applies mean-pooling on neighbors\n",
    "class AvgNeighbor(nn.Module):\n",
    "    def __init__(self):\n",
    "        super(AvgNeighbor, self).__init__()\n",
    "\n",
    "    def forward(self, seq, adj_ori):\n",
    "        adj_ori = sparse_mx_to_torch_sparse_tensor(adj_ori)\n",
    "        if torch.cuda.is_available():\n",
    "            adj_ori = adj_ori.cuda()\n",
    "        return torch.unsqueeze(torch.spmm(adj_ori, torch.squeeze(seq, 0)), 0)"
   ]
  },
  {
   "cell_type": "code",
   "execution_count": null,
   "metadata": {
    "id": "B8y2ubaC3xkB"
   },
   "outputs": [],
   "source": [
    "class GMI(nn.Module):\n",
    "    def __init__(self, n_in, n_h, activation):\n",
    "        super(GMI, self).__init__()\n",
    "        self.gcn1 = GCN(n_in, n_h, activation)  # if on citeseer and pubmed, the encoder is 1-layer GCN, you need to modify it\n",
    "        self.gcn2 = GCN(n_h, n_h, activation)\n",
    "        self.disc1 = Discriminator(n_in, n_h)\n",
    "        self.disc2 = Discriminator(n_h, n_h)\n",
    "        self.avg_neighbor = AvgNeighbor()\n",
    "        self.prelu = nn.PReLU()\n",
    "        self.sigm = nn.Sigmoid()\n",
    "\n",
    "    def forward(self, seq1, adj_ori, neg_num, adj, samp_bias1, samp_bias2, alpha=0.8, beta=1.0, gamma=1.0):\n",
    "        h_1, h_w = self.gcn1(seq1, adj)\n",
    "        h_2, _ = self.gcn2(h_1, adj)\n",
    "        h_neighbor = self.prelu(self.avg_neighbor(h_w, adj_ori))\n",
    "        \"\"\"FMI (X_i consists of the node i itself and its neighbors)\"\"\"\n",
    "        # I(h_i; x_i)\n",
    "        res_mi_pos, res_mi_neg = self.disc1(h_2, seq1, negative_sampling(adj_ori, neg_num), samp_bias1, samp_bias2)\n",
    "        # I(h_i; x_j) node j is a neighbor\n",
    "        res_local_pos, res_local_neg = self.disc2(h_neighbor, h_2, negative_sampling(adj_ori, neg_num), samp_bias1, samp_bias2)\n",
    "        \"\"\"I(w_ij; a_ij)\"\"\"\n",
    "        adj_rebuilt = self.sigm(torch.mm(torch.squeeze(h_2), torch.t(torch.squeeze(h_2))))\n",
    "        \n",
    "        #loss = args.alpha*process.mi_loss_jsd(res[0], res[1]) + args.beta*process.mi_loss_jsd(res[2], res[3]) + args.gamma*process.reconstruct_loss(res[4], adj_target)\n",
    "        #return res_mi_pos, res_mi_neg, res_local_pos, res_local_neg, adj_rebuilt\n",
    "        return alpha*mi_loss_jsd(res_mi_pos, res_mi_neg) + beta*mi_loss_jsd(res_local_pos, res_local_neg) + gamma*reconstruct_loss(adj_rebuilt, adj_target)\n",
    "\n",
    "    # detach the return variables\n",
    "    def embed(self, seq, adj):\n",
    "        h_1, _ = self.gcn1(seq, adj)\n",
    "        h_2, _ = self.gcn2(h_1, adj)\n",
    "\n",
    "        return h_2.detach()"
   ]
  },
  {
   "cell_type": "markdown",
   "metadata": {
    "id": "LFxRXUGP9lnO"
   },
   "source": [
    "# Train"
   ]
  },
  {
   "cell_type": "code",
   "execution_count": null,
   "metadata": {
    "id": "-p8QZ31G9lHt"
   },
   "outputs": [],
   "source": [
    "def training_block(num_epochs, model, training_layer, mine, loss_type, optimizer, train_loader, iseval = False):\n",
    "  result_list = []\n",
    "  total_step = len(train_loader)\n",
    "  train_acc_list = []\n",
    "  test_acc_list = []\n",
    "  if loss_type != \"cross entropy\":\n",
    "    scheduler = torch.optim.lr_scheduler.StepLR(optimizer, step_size=100, gamma=0.1)\n",
    "  for epoch in range(num_epochs):\n",
    "\n",
    "    #print('Epoch-{0} lr: {1}'.format(epoch, optimizer.param_groups[0]['lr']))\n",
    "    model.train()\n",
    "    sum_MI = 0\n",
    "    for data in train_loader:  # loop through the training set in a batch-wise fashion\n",
    "      data.to(device)  # move the batch to the device (GPU if applicable)\n",
    "      input_feature = data.x\n",
    "      input_edge_index = data.edge_index\n",
    "      y_expanded = torch.zeros(data.y.size(0), 2).to(device)\n",
    "      y_expanded[:, 0] += data.y == 0\n",
    "      y_expanded[:, 1] += data.y == 1 \n",
    "      \n",
    "      # Forward pass\n",
    "      outputs  = model(data.x, data.edge_index, data.batch, training_layer = training_layer)  \n",
    "      if loss_type == '-MI(X;Z)':\n",
    "        output_feature = outputs[0] \n",
    "        output_edge_index = outputs[1]\n",
    "        \n",
    "        loss = mine(input_feature, input_edge_index, M_fake).to(device)\n",
    "      elif loss_type == '-MI(Y;Z)':\n",
    "        labels = labels.view(labels.shape[0], -1).to(device) \n",
    "        loss = mine(labels, outputs).to(device)\n",
    "      elif loss_type == \"cross entropy\":\n",
    "        #labels = labels.view(labels.shape[0], -1).to(device) \n",
    "        loss = mine(outputs, labels).to(device)\n",
    "      \n",
    "      # Backward and optimize\n",
    "      optimizer.zero_grad()\n",
    "      loss.backward()\n",
    "      optimizer.step()\n",
    "      if loss_type != \"cross entropy\":\n",
    "        scheduler.step()\n",
    "      MI = loss.item()\n",
    "      sum_MI += MI\n",
    "   \n",
    "    avg_MI = sum_MI/total_step\n",
    "    result_list.append(avg_MI)\n",
    "    output = 'Epoch [{}/{}], '+ training_layer+' ' + loss_type +' : {:.12f}' \n",
    "    print (output.format(epoch+1, num_epochs, avg_MI))\n",
    "    if iseval:\n",
    "      if epoch == num_epochs-1:\n",
    "        isprint = True\n",
    "      else:\n",
    "        isprint = False\n",
    "      train_acc, test_acc = eval(model, isprint=isprint)\n",
    "      train_acc_list.append(train_acc)\n",
    "      test_acc_list.append(test_acc)\n",
    "  if len(train_acc_list) == num_epochs: \n",
    "    plot_acc(train_acc_list, test_acc_list, num_epochs)\n",
    "  \n",
    "  if iseval:\n",
    "    return result_list, train_acc_list[-1], test_acc_list[-1]\n",
    "  else:\n",
    "    return result_list"
   ]
  },
  {
   "cell_type": "markdown",
   "metadata": {
    "id": "jYFGOiz-IKvk"
   },
   "source": [
    "# Modular Training"
   ]
  },
  {
   "cell_type": "code",
   "execution_count": null,
   "metadata": {
    "id": "T0IHV2j5Qebj"
   },
   "outputs": [],
   "source": [
    "from torch_geometric.loader import DataLoader\n",
    "def Modular_training(model, num_epochs, estimator, loss_list, layer_list, train_dataset):\n",
    "    if len(train_dataset) < 124:\n",
    "        train_loader = DataLoader(dataset=train_dataset, batch_size=len(train_dataset), shuffle=True)\n",
    "    else:\n",
    "        train_loader = DataLoader(dataset=train_dataset, batch_size=124, shuffle=True)\n",
    "    model.train()\n",
    "    for param in model.parameters(): \n",
    "        param.requires_grad = False\n",
    "  \n",
    "    #training embedding\n",
    "    print(\"Training embedding\")\n",
    "    for name, param in model.embedding.named_parameters():\n",
    "        param.requires_grad = True\n",
    "    mine = estimator[0].to(device)\n",
    "    optimizer = torch.optim.Adam(\n",
    "                                [{\"params\": model.parameters(), \"lr\": 1e-6},\n",
    "                                {\"params\": mine.parameters(), \"lr\": 1e-7}])\n",
    "    loss_type = loss_list[0]\n",
    "    training_layer = layer_list[0]\n",
    "    emb = training_block(num_epochs, model, training_layer, mine, loss_type, optimizer, train_loader)\n",
    "    for name, param in model.embedding.named_parameters():\n",
    "        param.requires_grad = False\n",
    "\n",
    "    #training mp1\n",
    "    print(\"Training mp1\")\n",
    "    for name, param in model.mp1.named_parameters():\n",
    "        param.requires_grad = True\n",
    "    mine = estimator[1].to(device)\n",
    "    optimizer = torch.optim.Adam(\n",
    "                                [{\"params\": model.parameters(), \"lr\": 1e-6},\n",
    "                                {\"params\": mine.parameters(), \"lr\": 1e-7}])\n",
    "    loss_type = loss_list[1]\n",
    "    training_layer = layer_list[1]\n",
    "    mp1 = training_block(num_epochs, model, training_layer, mine, loss_type, optimizer, train_loader)\n",
    "    for name, param in model.mp1.named_parameters():\n",
    "        param.requires_grad = False\n",
    "\n",
    "    #training mp2\n",
    "    print(\"Training mp2\")\n",
    "    for name, param in model.mp2.named_parameters():\n",
    "        param.requires_grad = True\n",
    "    mine = Mine(estimator[2]).to(device)\n",
    "    optimizer = torch.optim.Adam(\n",
    "                                [{\"params\": model.parameters(), \"lr\": 1e-6},\n",
    "                                {\"params\": mine.parameters(), \"lr\": 1e-6}])\n",
    "    loss_type = loss_list[2]\n",
    "    training_layer = layer_list[2]\n",
    "    mp2 = training_block(num_epochs, model, training_layer, mine, loss_type, optimizer, train_loader)\n",
    "    for name, param in model.mp2.named_parameters():\n",
    "        param.requires_grad = False\n",
    "\n",
    "    #training fc\n",
    "    print(\"Training fc\")\n",
    "    train_loader = DataLoader(dataset=train_dataset, batch_size=128, shuffle=True)\n",
    "    for name, param in model.fc.named_parameters():\n",
    "        param.requires_grad = True\n",
    "    mine = nn.CrossEntropyLoss()\n",
    "    optimizer = torch.optim.Adam(model.parameters(), lr=0.001)\n",
    "    loss_type = loss_list[3]\n",
    "    training_layer = layer_list[3]\n",
    "    fc, train_acc, test_acc = training_block(num_epochs, model, training_layer, mine, loss_type, optimizer, train_loader, iseval=True)\n",
    "    for name, param in model.fc.named_parameters():\n",
    "        param.requires_grad = False\n",
    "\n",
    "    return emb, mp1, mp2, fc, train_acc, test_acc\n",
    "  #return mp1, mp2, fc, train_acc, test_acc"
   ]
  },
  {
   "cell_type": "code",
   "execution_count": null,
   "metadata": {
    "colab": {
     "base_uri": "https://localhost:8080/",
     "height": 485
    },
    "id": "BtY6DYaz9TK2",
    "outputId": "66a314ae-a28f-4dc7-ebbc-74b1d46e1871"
   },
   "outputs": [
    {
     "name": "stdout",
     "output_type": "stream",
     "text": [
      "Training embedding\n"
     ]
    },
    {
     "ename": "ValueError",
     "evalue": "ignored",
     "output_type": "error",
     "traceback": [
      "\u001b[0;31m---------------------------------------------------------------------------\u001b[0m",
      "\u001b[0;31mValueError\u001b[0m                                Traceback (most recent call last)",
      "\u001b[0;32m<ipython-input-32-bbb10adab3a8>\u001b[0m in \u001b[0;36m<cell line: 8>\u001b[0;34m()\u001b[0m\n\u001b[1;32m      6\u001b[0m \u001b[0mlayer_list\u001b[0m \u001b[0;34m=\u001b[0m \u001b[0;34m[\u001b[0m\u001b[0;34m\"layer1\"\u001b[0m\u001b[0;34m,\u001b[0m \u001b[0;34m\"layer2\"\u001b[0m\u001b[0;34m,\u001b[0m \u001b[0;34m'fc1'\u001b[0m\u001b[0;34m,\u001b[0m \u001b[0;34m'fc2'\u001b[0m\u001b[0;34m]\u001b[0m\u001b[0;34m\u001b[0m\u001b[0;34m\u001b[0m\u001b[0m\n\u001b[1;32m      7\u001b[0m \u001b[0mnum_epochs\u001b[0m \u001b[0;34m=\u001b[0m \u001b[0;36m10\u001b[0m\u001b[0;34m\u001b[0m\u001b[0;34m\u001b[0m\u001b[0m\n\u001b[0;32m----> 8\u001b[0;31m \u001b[0mlayer1\u001b[0m\u001b[0;34m,\u001b[0m \u001b[0mlayer2\u001b[0m\u001b[0;34m,\u001b[0m \u001b[0mfc1\u001b[0m\u001b[0;34m,\u001b[0m \u001b[0mfc2\u001b[0m\u001b[0;34m,\u001b[0m \u001b[0m_\u001b[0m\u001b[0;34m,\u001b[0m \u001b[0m_\u001b[0m \u001b[0;34m=\u001b[0m \u001b[0mModular_training\u001b[0m\u001b[0;34m(\u001b[0m\u001b[0mmodel\u001b[0m\u001b[0;34m,\u001b[0m \u001b[0mnum_epochs\u001b[0m\u001b[0;34m,\u001b[0m \u001b[0mT_estimator\u001b[0m\u001b[0;34m,\u001b[0m \u001b[0mloss_list\u001b[0m\u001b[0;34m,\u001b[0m \u001b[0mlayer_list\u001b[0m\u001b[0;34m,\u001b[0m \u001b[0mdataset_train\u001b[0m\u001b[0;34m)\u001b[0m\u001b[0;34m\u001b[0m\u001b[0;34m\u001b[0m\u001b[0m\n\u001b[0m",
      "\u001b[0;32m<ipython-input-31-a664d0b0e25a>\u001b[0m in \u001b[0;36mModular_training\u001b[0;34m(model, num_epochs, estimator, loss_list, layer_list, train_dataset)\u001b[0m\n\u001b[1;32m     19\u001b[0m     \u001b[0mloss_type\u001b[0m \u001b[0;34m=\u001b[0m \u001b[0mloss_list\u001b[0m\u001b[0;34m[\u001b[0m\u001b[0;36m0\u001b[0m\u001b[0;34m]\u001b[0m\u001b[0;34m\u001b[0m\u001b[0;34m\u001b[0m\u001b[0m\n\u001b[1;32m     20\u001b[0m     \u001b[0mtraining_layer\u001b[0m \u001b[0;34m=\u001b[0m \u001b[0mlayer_list\u001b[0m\u001b[0;34m[\u001b[0m\u001b[0;36m0\u001b[0m\u001b[0;34m]\u001b[0m\u001b[0;34m\u001b[0m\u001b[0;34m\u001b[0m\u001b[0m\n\u001b[0;32m---> 21\u001b[0;31m     \u001b[0memb\u001b[0m \u001b[0;34m=\u001b[0m \u001b[0mtraining_block\u001b[0m\u001b[0;34m(\u001b[0m\u001b[0mnum_epochs\u001b[0m\u001b[0;34m,\u001b[0m \u001b[0mmodel\u001b[0m\u001b[0;34m,\u001b[0m \u001b[0mtraining_layer\u001b[0m\u001b[0;34m,\u001b[0m \u001b[0mmine\u001b[0m\u001b[0;34m,\u001b[0m \u001b[0mloss_type\u001b[0m\u001b[0;34m,\u001b[0m \u001b[0moptimizer\u001b[0m\u001b[0;34m,\u001b[0m \u001b[0mtrain_loader\u001b[0m\u001b[0;34m)\u001b[0m\u001b[0;34m\u001b[0m\u001b[0;34m\u001b[0m\u001b[0m\n\u001b[0m\u001b[1;32m     22\u001b[0m     \u001b[0;32mfor\u001b[0m \u001b[0mname\u001b[0m\u001b[0;34m,\u001b[0m \u001b[0mparam\u001b[0m \u001b[0;32min\u001b[0m \u001b[0mmodel\u001b[0m\u001b[0;34m.\u001b[0m\u001b[0membedding\u001b[0m\u001b[0;34m.\u001b[0m\u001b[0mnamed_parameters\u001b[0m\u001b[0;34m(\u001b[0m\u001b[0;34m)\u001b[0m\u001b[0;34m:\u001b[0m\u001b[0;34m\u001b[0m\u001b[0;34m\u001b[0m\u001b[0m\n\u001b[1;32m     23\u001b[0m         \u001b[0mparam\u001b[0m\u001b[0;34m.\u001b[0m\u001b[0mrequires_grad\u001b[0m \u001b[0;34m=\u001b[0m \u001b[0;32mFalse\u001b[0m\u001b[0;34m\u001b[0m\u001b[0;34m\u001b[0m\u001b[0m\n",
      "\u001b[0;32m<ipython-input-20-2a79e2945b34>\u001b[0m in \u001b[0;36mtraining_block\u001b[0;34m(num_epochs, model, training_layer, mine, loss_type, optimizer, train_loader, iseval)\u001b[0m\n\u001b[1;32m     10\u001b[0m     \u001b[0;31m#print('Epoch-{0} lr: {1}'.format(epoch, optimizer.param_groups[0]['lr']))\u001b[0m\u001b[0;34m\u001b[0m\u001b[0;34m\u001b[0m\u001b[0m\n\u001b[1;32m     11\u001b[0m     \u001b[0msum_MI\u001b[0m \u001b[0;34m=\u001b[0m \u001b[0;36m0\u001b[0m\u001b[0;34m\u001b[0m\u001b[0;34m\u001b[0m\u001b[0m\n\u001b[0;32m---> 12\u001b[0;31m     \u001b[0;32mfor\u001b[0m \u001b[0mi\u001b[0m\u001b[0;34m,\u001b[0m \u001b[0;34m(\u001b[0m\u001b[0mimages\u001b[0m\u001b[0;34m,\u001b[0m \u001b[0mlabels\u001b[0m\u001b[0;34m)\u001b[0m \u001b[0;32min\u001b[0m \u001b[0menumerate\u001b[0m\u001b[0;34m(\u001b[0m\u001b[0mtrain_loader\u001b[0m\u001b[0;34m)\u001b[0m\u001b[0;34m:\u001b[0m\u001b[0;34m\u001b[0m\u001b[0;34m\u001b[0m\u001b[0m\n\u001b[0m\u001b[1;32m     13\u001b[0m       \u001b[0mimages\u001b[0m \u001b[0;34m=\u001b[0m \u001b[0mimages\u001b[0m\u001b[0;34m.\u001b[0m\u001b[0mto\u001b[0m\u001b[0;34m(\u001b[0m\u001b[0mdevice\u001b[0m\u001b[0;34m)\u001b[0m\u001b[0;34m\u001b[0m\u001b[0;34m\u001b[0m\u001b[0m\n\u001b[1;32m     14\u001b[0m       \u001b[0mlabels\u001b[0m \u001b[0;34m=\u001b[0m \u001b[0mlabels\u001b[0m\u001b[0;34m.\u001b[0m\u001b[0mto\u001b[0m\u001b[0;34m(\u001b[0m\u001b[0mdevice\u001b[0m\u001b[0;34m)\u001b[0m\u001b[0;34m\u001b[0m\u001b[0;34m\u001b[0m\u001b[0m\n",
      "\u001b[0;31mValueError\u001b[0m: too many values to unpack (expected 2)"
     ]
    }
   ],
   "source": [
    "model = Layer_MpGNN(14,32).to(device).to(device)\n",
    "T_estimator = [GMI(14, 32, 'prelu'), \n",
    "               GMI(14, 32, 'prelu'),\n",
    "               T(1, 32)]\n",
    "loss_list = ['-MI(X;Z)', '-MI(X;Z)', \"-MI(Y;Z)\", \"cross entropy\"]\n",
    "layer_list = [\"layer1\", \"layer2\", 'fc1', 'fc2']\n",
    "num_epochs = 10\n",
    "layer1, layer2, fc1, fc2, _, _ = Modular_training(model, num_epochs, T_estimator, loss_list, layer_list, dataset_train)"
   ]
  },
  {
   "cell_type": "code",
   "execution_count": null,
   "metadata": {
    "id": "8OMYgIjx9Y8z"
   },
   "outputs": [],
   "source": [
    "plot_loss(layer1, num_epochs, loss_list[0])\n",
    "plot_loss(layer2, num_epochs, loss_list[1])\n",
    "plot_loss(fc1, num_epochs, loss_list[2])\n",
    "plot_loss(fc2, num_epochs, loss_list[3])"
   ]
  },
  {
   "cell_type": "markdown",
   "metadata": {
    "id": "_g-a_EgAnR-9"
   },
   "source": [
    "# Save Model"
   ]
  },
  {
   "cell_type": "code",
   "execution_count": null,
   "metadata": {
    "id": "Sy8zC6x4jwVt"
   },
   "outputs": [],
   "source": [
    "# save model\n",
    "model_save_name = 'DIMonMNIST.pt'\n",
    "path = F\"/content/gdrive/MyDrive/ICML/{model_save_name}\" \n",
    "torch.save(model.state_dict(), path)"
   ]
  },
  {
   "cell_type": "markdown",
   "metadata": {
    "id": "rSGVt05nnT0f"
   },
   "source": [
    "# Load Model"
   ]
  },
  {
   "cell_type": "code",
   "execution_count": null,
   "metadata": {
    "colab": {
     "base_uri": "https://localhost:8080/"
    },
    "id": "gFp13R2Lj_cn",
    "outputId": "f7ae8ce2-4e85-465e-88e9-02115416e4da"
   },
   "outputs": [
    {
     "data": {
      "text/plain": [
       "<All keys matched successfully>"
      ]
     },
     "execution_count": 29,
     "metadata": {},
     "output_type": "execute_result"
    }
   ],
   "source": [
    "# load saved model\n",
    "model_save_name = 'DIMonMNIST.pt'\n",
    "path = F\"/content/gdrive/MyDrive/ICML/{model_save_name}\"\n",
    "model.load_state_dict(torch.load(path))"
   ]
  }
 ],
 "metadata": {
  "colab": {
   "collapsed_sections": [
    "TqZYR93NGMW_",
    "T4V1vFQOpaLB",
    "_g-a_EgAnR-9",
    "rSGVt05nnT0f"
   ],
   "provenance": []
  },
  "kernelspec": {
   "display_name": "Python 3 (ipykernel)",
   "language": "python",
   "name": "python3"
  },
  "language_info": {
   "codemirror_mode": {
    "name": "ipython",
    "version": 3
   },
   "file_extension": ".py",
   "mimetype": "text/x-python",
   "name": "python",
   "nbconvert_exporter": "python",
   "pygments_lexer": "ipython3",
   "version": "3.8.10"
  }
 },
 "nbformat": 4,
 "nbformat_minor": 4
}
